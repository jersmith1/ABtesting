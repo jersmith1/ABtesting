{
 "cells": [
  {
   "cell_type": "code",
   "execution_count": null,
   "metadata": {},
   "outputs": [],
   "source": [
    "import codecademylib3\n",
    "import pandas as pd"
   ]
  },
  {
   "cell_type": "code",
   "execution_count": null,
   "metadata": {},
   "outputs": [],
   "source": [
    "ad_clicks = pd.read_csv('ad_clicks.csv')\n",
    "\n",
    "print(ad_clicks.head())"
   ]
  },
  {
   "cell_type": "code",
   "execution_count": null,
   "metadata": {},
   "outputs": [],
   "source": [
    "ad_clicks.groupby('utm_source').user_id.count().reset_index()\n",
    "\n",
    "ad_clicks['is_click'] = ~ad_clicks.ad_click_timestamp.isnull()\n",
    "\n",
    "clicks_by_source = ad_clicks.groupby(['utm_source','is_click']).user_id.count().reset_index()\n",
    "\n",
    "clicks_pivot = clicks_by_source.pivot(index = 'utm_source', columns='is_click', values='user_id').reset_index()\n",
    "\n",
    "clicks_pivot['percent_clicked'] = clicks_pivot[True]/(clicks_pivot[True]+clicks_pivot[False])"
   ]
  },
  {
   "cell_type": "code",
   "execution_count": null,
   "metadata": {},
   "outputs": [],
   "source": [
    "print(ad_clicks.groupby(['experimental_group',\n",
    "'is_click']).user_id.count().reset_index().pivot(\n",
    "  index='experimental_group',\n",
    "  columns = 'is_click',\n",
    "  values = 'user_id'\n",
    ").reset_index())"
   ]
  },
  {
   "cell_type": "code",
   "execution_count": null,
   "metadata": {},
   "outputs": [],
   "source": [
    "a_clicks = ad_clicks[ad_clicks.experimental_group == 'A']\n",
    "b_clicks = ad_clicks[ad_clicks.experimental_group == 'B']"
   ]
  },
  {
   "cell_type": "code",
   "execution_count": null,
   "metadata": {},
   "outputs": [],
   "source": [
    "a_clicks_pivot = a_clicks.groupby(['is_click', 'day']).user_id.count().reset_index().pivot(\n",
    "  index = 'day',\n",
    "  columns = 'is_click',\n",
    "  values = 'user_id'  \n",
    ").reset_index()"
   ]
  },
  {
   "cell_type": "code",
   "execution_count": null,
   "metadata": {},
   "outputs": [],
   "source": [
    "a_clicks_pivot['percent_clicked'] = a_clicks_pivot[True]/(a_clicks_pivot[True]+a_clicks_pivot[False])\n",
    "\n",
    "print(a_clicks_pivot)"
   ]
  },
  {
   "cell_type": "code",
   "execution_count": null,
   "metadata": {},
   "outputs": [],
   "source": [
    "b_clicks_pivot = b_clicks.groupby(['is_click', 'day']).user_id.count().reset_index().pivot(\n",
    "  index = 'day',\n",
    "  columns = 'is_click',\n",
    "  values = 'user_id'  \n",
    ").reset_index()\n",
    "\n",
    "b_clicks_pivot['percent_clicked'] = b_clicks_pivot[True]/(b_clicks_pivot[True]+b_clicks_pivot[False])\n",
    "\n",
    "print(b_clicks_pivot)"
   ]
  }
 ],
 "metadata": {
  "kernelspec": {
   "display_name": "Python 3",
   "language": "python",
   "name": "python3"
  },
  "language_info": {
   "codemirror_mode": {
    "name": "ipython",
    "version": 3
   },
   "file_extension": ".py",
   "mimetype": "text/x-python",
   "name": "python",
   "nbconvert_exporter": "python",
   "pygments_lexer": "ipython3",
   "version": "3.8.5"
  }
 },
 "nbformat": 4,
 "nbformat_minor": 4
}
